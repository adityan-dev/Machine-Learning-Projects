{
 "cells": [
  {
   "cell_type": "markdown",
   "id": "9b63052a-c375-4caf-8ee2-49cbb9f8ddb5",
   "metadata": {
    "colab_type": "text",
    "collapsed": false,
    "id": "view-in-github"
   },
   "source": [
    "<a href=\"https://colab.research.google.com/github/adityan-dev/ml-projects/blob/master/Asteroids/Asteroid.ipynb\" target=\"_parent\"><img src=\"https://colab.research.google.com/assets/colab-badge.svg\" alt=\"Open In Colab\"/></a>"
   ]
  },
  {
   "cell_type": "markdown",
   "id": "0387c394-f025-4020-a79c-6cc88547e097",
   "metadata": {
    "collapsed": false,
    "id": "USJA6NZnAOGs"
   },
   "source": [
    "# Importing Libraries"
   ]
  },
  {
   "cell_type": "code",
   "execution_count": 1,
   "id": "f0bb73e2-e0e9-4eea-aeb5-9c0d4f51bd35",
   "metadata": {
    "colab": {
     "base_uri": "https://localhost:8080/"
    },
    "collapsed": false,
    "id": "5yYKEX0OBCh-",
    "outputId": "87c5f8da-2464-449c-deff-070c3c5ee852"
   },
   "outputs": [
    {
     "name": "stdout",
     "output_type": "stream",
     "text": [
      "Requirement already satisfied: numpy in /home/adityan/Anaconda3/lib/python3.9/site-packages (1.21.5)\r\n"
     ]
    },
    {
     "name": "stdout",
     "output_type": "stream",
     "text": [
      "Note: you may need to restart the kernel to use updated packages.\n"
     ]
    }
   ],
   "source": [
    "pip install numpy"
   ]
  },
  {
   "cell_type": "code",
   "execution_count": 3,
   "id": "e1941472-4ee4-4f82-a4b9-ebf2ba61fcb1",
   "metadata": {
    "collapsed": false,
    "id": "zGW5DqIn2III"
   },
   "outputs": [],
   "source": [
    "import numpy as np\n",
    "import pandas as pd"
   ]
  },
  {
   "cell_type": "code",
   "execution_count": 3,
   "id": "45f8d881-6b38-4efa-993f-a38643e460ce",
   "metadata": {
    "colab": {
     "base_uri": "https://localhost:8080/"
    },
    "collapsed": false,
    "id": "Vs_BDz-O2kmT",
    "outputId": "e011ba58-a9e9-436d-9b5e-12ebc6587e90"
   },
   "outputs": [],
   "source": []
  }
 ],
 "metadata": {
  "colab": {
   "authorship_tag": "ABX9TyPrhGAzll16PZARUOmwf3NP",
   "collapsed_sections": [],
   "include_colab_link": true,
   "name": "Asteroid.ipynb",
   "provenance": []
  },
  "kernelspec": {
   "argv": [
    "/home/adityan/Anaconda3/bin/python",
    "-m",
    "ipykernel_launcher",
    "-f",
    "{connection_file}"
   ],
   "display_name": "Python 3 (ipykernel)",
   "env": null,
   "interrupt_mode": "signal",
   "language": "python",
   "metadata": {
    "debugger": true
   },
   "name": "python3"
  },
  "language_info": {
   "name": "python"
  },
  "name": "Asteroid.ipynb"
 },
 "nbformat": 4,
 "nbformat_minor": 0
}
