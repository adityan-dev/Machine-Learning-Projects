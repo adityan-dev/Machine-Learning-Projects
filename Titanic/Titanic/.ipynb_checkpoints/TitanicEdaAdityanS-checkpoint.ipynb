{
 "cells": [
  {
   "cell_type": "markdown",
   "id": "76a4a13c-7be2-4b16-baf3-6cb28a0f90a2",
   "metadata": {
    "jp-MarkdownHeadingCollapsed": true,
    "tags": []
   },
   "source": [
    "# Personal Info\n",
    "- Adityan S\n",
    "- 20311001\n",
    "- MSP 3rd Year\n",
    "- adityan.s@ph.iitr.ac.in"
   ]
  },
  {
   "cell_type": "markdown",
   "id": "c58101ae-a04b-4fe8-b6df-e0169a11bc2d",
   "metadata": {
    "tags": []
   },
   "source": [
    "# Importing Python Libraries"
   ]
  },
  {
   "cell_type": "code",
   "execution_count": 190,
   "id": "6bc211bf-0aba-4c31-9905-2182d49df136",
   "metadata": {},
   "outputs": [],
   "source": [
    "import numpy as np\n",
    "import pandas as pd\n",
    "import seaborn as sns\n",
    "import opendatasets as od\n",
    "from sklearn.linear_model import LogisticRegression\n",
    "from sklearn.metrics import accuracy_score"
   ]
  },
  {
   "cell_type": "markdown",
   "id": "fcf29571-8824-4445-ba2c-f1e01a4f570f",
   "metadata": {
    "tags": []
   },
   "source": [
    "# Downloading Data and Initialization"
   ]
  },
  {
   "cell_type": "code",
   "execution_count": 191,
   "id": "54bc7e6f-8f6d-4268-b128-e9d168b5f737",
   "metadata": {},
   "outputs": [
    {
     "name": "stdout",
     "output_type": "stream",
     "text": [
      "Skipping, found downloaded files in \"./titanic\" (use force=True to force download)\n"
     ]
    }
   ],
   "source": [
    "url = 'https://www.kaggle.com/competitions/titanic/data'\n",
    "od.download(url)\n",
    "train_filename = './titanic/train.csv'\n",
    "test_filename = './titanic/test.csv'"
   ]
  },
  {
   "cell_type": "markdown",
   "id": "0131334c-4ae3-47fa-bf54-ed1e2e62b76a",
   "metadata": {
    "tags": []
   },
   "source": [
    "# Data Preparation and Cleaning"
   ]
  },
  {
   "cell_type": "markdown",
   "id": "272f571c-b2ff-47b5-86fe-5b674237e851",
   "metadata": {
    "tags": []
   },
   "source": [
    "## Loading Data with pandas"
   ]
  },
  {
   "cell_type": "markdown",
   "id": "074a95ad-059c-4e0a-aa61-321dbd1bf70b",
   "metadata": {
    "tags": []
   },
   "source": [
    "### Creating `pandas.DataFrame` to hold the downloaded testing and training dataset"
   ]
  },
  {
   "cell_type": "code",
   "execution_count": 192,
   "id": "d1f57040-e22c-4d00-8fc4-786af459f455",
   "metadata": {},
   "outputs": [],
   "source": [
    "df_train = pd.read_csv(train_filename)\n",
    "df_test = pd.read_csv(test_filename)"
   ]
  },
  {
   "cell_type": "markdown",
   "id": "20dad451-c266-49f6-91e3-bdfcbf99232a",
   "metadata": {},
   "source": [
    "### Overall Structure of Training and Testing DataSet"
   ]
  },
  {
   "cell_type": "code",
   "execution_count": 193,
   "id": "c5584b68-a654-452e-9876-da0cc6abebd9",
   "metadata": {},
   "outputs": [
    {
     "data": {
      "text/html": [
       "<div>\n",
       "<style scoped>\n",
       "    .dataframe tbody tr th:only-of-type {\n",
       "        vertical-align: middle;\n",
       "    }\n",
       "\n",
       "    .dataframe tbody tr th {\n",
       "        vertical-align: top;\n",
       "    }\n",
       "\n",
       "    .dataframe thead th {\n",
       "        text-align: right;\n",
       "    }\n",
       "</style>\n",
       "<table border=\"1\" class=\"dataframe\">\n",
       "  <thead>\n",
       "    <tr style=\"text-align: right;\">\n",
       "      <th></th>\n",
       "      <th>PassengerId</th>\n",
       "      <th>Survived</th>\n",
       "      <th>Pclass</th>\n",
       "      <th>Name</th>\n",
       "      <th>Sex</th>\n",
       "      <th>Age</th>\n",
       "      <th>SibSp</th>\n",
       "      <th>Parch</th>\n",
       "      <th>Ticket</th>\n",
       "      <th>Fare</th>\n",
       "      <th>Cabin</th>\n",
       "      <th>Embarked</th>\n",
       "    </tr>\n",
       "  </thead>\n",
       "  <tbody>\n",
       "    <tr>\n",
       "      <th>0</th>\n",
       "      <td>1</td>\n",
       "      <td>0</td>\n",
       "      <td>3</td>\n",
       "      <td>Braund, Mr. Owen Harris</td>\n",
       "      <td>male</td>\n",
       "      <td>22.0</td>\n",
       "      <td>1</td>\n",
       "      <td>0</td>\n",
       "      <td>A/5 21171</td>\n",
       "      <td>7.2500</td>\n",
       "      <td>NaN</td>\n",
       "      <td>S</td>\n",
       "    </tr>\n",
       "    <tr>\n",
       "      <th>1</th>\n",
       "      <td>2</td>\n",
       "      <td>1</td>\n",
       "      <td>1</td>\n",
       "      <td>Cumings, Mrs. John Bradley (Florence Briggs Th...</td>\n",
       "      <td>female</td>\n",
       "      <td>38.0</td>\n",
       "      <td>1</td>\n",
       "      <td>0</td>\n",
       "      <td>PC 17599</td>\n",
       "      <td>71.2833</td>\n",
       "      <td>C85</td>\n",
       "      <td>C</td>\n",
       "    </tr>\n",
       "    <tr>\n",
       "      <th>2</th>\n",
       "      <td>3</td>\n",
       "      <td>1</td>\n",
       "      <td>3</td>\n",
       "      <td>Heikkinen, Miss. Laina</td>\n",
       "      <td>female</td>\n",
       "      <td>26.0</td>\n",
       "      <td>0</td>\n",
       "      <td>0</td>\n",
       "      <td>STON/O2. 3101282</td>\n",
       "      <td>7.9250</td>\n",
       "      <td>NaN</td>\n",
       "      <td>S</td>\n",
       "    </tr>\n",
       "    <tr>\n",
       "      <th>3</th>\n",
       "      <td>4</td>\n",
       "      <td>1</td>\n",
       "      <td>1</td>\n",
       "      <td>Futrelle, Mrs. Jacques Heath (Lily May Peel)</td>\n",
       "      <td>female</td>\n",
       "      <td>35.0</td>\n",
       "      <td>1</td>\n",
       "      <td>0</td>\n",
       "      <td>113803</td>\n",
       "      <td>53.1000</td>\n",
       "      <td>C123</td>\n",
       "      <td>S</td>\n",
       "    </tr>\n",
       "    <tr>\n",
       "      <th>4</th>\n",
       "      <td>5</td>\n",
       "      <td>0</td>\n",
       "      <td>3</td>\n",
       "      <td>Allen, Mr. William Henry</td>\n",
       "      <td>male</td>\n",
       "      <td>35.0</td>\n",
       "      <td>0</td>\n",
       "      <td>0</td>\n",
       "      <td>373450</td>\n",
       "      <td>8.0500</td>\n",
       "      <td>NaN</td>\n",
       "      <td>S</td>\n",
       "    </tr>\n",
       "  </tbody>\n",
       "</table>\n",
       "</div>"
      ],
      "text/plain": [
       "   PassengerId  Survived  Pclass  \\\n",
       "0            1         0       3   \n",
       "1            2         1       1   \n",
       "2            3         1       3   \n",
       "3            4         1       1   \n",
       "4            5         0       3   \n",
       "\n",
       "                                                Name     Sex   Age  SibSp  \\\n",
       "0                            Braund, Mr. Owen Harris    male  22.0      1   \n",
       "1  Cumings, Mrs. John Bradley (Florence Briggs Th...  female  38.0      1   \n",
       "2                             Heikkinen, Miss. Laina  female  26.0      0   \n",
       "3       Futrelle, Mrs. Jacques Heath (Lily May Peel)  female  35.0      1   \n",
       "4                           Allen, Mr. William Henry    male  35.0      0   \n",
       "\n",
       "   Parch            Ticket     Fare Cabin Embarked  \n",
       "0      0         A/5 21171   7.2500   NaN        S  \n",
       "1      0          PC 17599  71.2833   C85        C  \n",
       "2      0  STON/O2. 3101282   7.9250   NaN        S  \n",
       "3      0            113803  53.1000  C123        S  \n",
       "4      0            373450   8.0500   NaN        S  "
      ]
     },
     "execution_count": 193,
     "metadata": {},
     "output_type": "execute_result"
    }
   ],
   "source": [
    "df_train.head()"
   ]
  },
  {
   "cell_type": "code",
   "execution_count": 194,
   "id": "d39edc04-ed4c-453d-a31a-35f177b76428",
   "metadata": {},
   "outputs": [
    {
     "data": {
      "text/html": [
       "<div>\n",
       "<style scoped>\n",
       "    .dataframe tbody tr th:only-of-type {\n",
       "        vertical-align: middle;\n",
       "    }\n",
       "\n",
       "    .dataframe tbody tr th {\n",
       "        vertical-align: top;\n",
       "    }\n",
       "\n",
       "    .dataframe thead th {\n",
       "        text-align: right;\n",
       "    }\n",
       "</style>\n",
       "<table border=\"1\" class=\"dataframe\">\n",
       "  <thead>\n",
       "    <tr style=\"text-align: right;\">\n",
       "      <th></th>\n",
       "      <th>PassengerId</th>\n",
       "      <th>Survived</th>\n",
       "      <th>Pclass</th>\n",
       "      <th>Name</th>\n",
       "      <th>Sex</th>\n",
       "      <th>Age</th>\n",
       "      <th>SibSp</th>\n",
       "      <th>Parch</th>\n",
       "      <th>Ticket</th>\n",
       "      <th>Fare</th>\n",
       "      <th>Cabin</th>\n",
       "      <th>Embarked</th>\n",
       "    </tr>\n",
       "  </thead>\n",
       "  <tbody>\n",
       "    <tr>\n",
       "      <th>886</th>\n",
       "      <td>887</td>\n",
       "      <td>0</td>\n",
       "      <td>2</td>\n",
       "      <td>Montvila, Rev. Juozas</td>\n",
       "      <td>male</td>\n",
       "      <td>27.0</td>\n",
       "      <td>0</td>\n",
       "      <td>0</td>\n",
       "      <td>211536</td>\n",
       "      <td>13.00</td>\n",
       "      <td>NaN</td>\n",
       "      <td>S</td>\n",
       "    </tr>\n",
       "    <tr>\n",
       "      <th>887</th>\n",
       "      <td>888</td>\n",
       "      <td>1</td>\n",
       "      <td>1</td>\n",
       "      <td>Graham, Miss. Margaret Edith</td>\n",
       "      <td>female</td>\n",
       "      <td>19.0</td>\n",
       "      <td>0</td>\n",
       "      <td>0</td>\n",
       "      <td>112053</td>\n",
       "      <td>30.00</td>\n",
       "      <td>B42</td>\n",
       "      <td>S</td>\n",
       "    </tr>\n",
       "    <tr>\n",
       "      <th>888</th>\n",
       "      <td>889</td>\n",
       "      <td>0</td>\n",
       "      <td>3</td>\n",
       "      <td>Johnston, Miss. Catherine Helen \"Carrie\"</td>\n",
       "      <td>female</td>\n",
       "      <td>NaN</td>\n",
       "      <td>1</td>\n",
       "      <td>2</td>\n",
       "      <td>W./C. 6607</td>\n",
       "      <td>23.45</td>\n",
       "      <td>NaN</td>\n",
       "      <td>S</td>\n",
       "    </tr>\n",
       "    <tr>\n",
       "      <th>889</th>\n",
       "      <td>890</td>\n",
       "      <td>1</td>\n",
       "      <td>1</td>\n",
       "      <td>Behr, Mr. Karl Howell</td>\n",
       "      <td>male</td>\n",
       "      <td>26.0</td>\n",
       "      <td>0</td>\n",
       "      <td>0</td>\n",
       "      <td>111369</td>\n",
       "      <td>30.00</td>\n",
       "      <td>C148</td>\n",
       "      <td>C</td>\n",
       "    </tr>\n",
       "    <tr>\n",
       "      <th>890</th>\n",
       "      <td>891</td>\n",
       "      <td>0</td>\n",
       "      <td>3</td>\n",
       "      <td>Dooley, Mr. Patrick</td>\n",
       "      <td>male</td>\n",
       "      <td>32.0</td>\n",
       "      <td>0</td>\n",
       "      <td>0</td>\n",
       "      <td>370376</td>\n",
       "      <td>7.75</td>\n",
       "      <td>NaN</td>\n",
       "      <td>Q</td>\n",
       "    </tr>\n",
       "  </tbody>\n",
       "</table>\n",
       "</div>"
      ],
      "text/plain": [
       "     PassengerId  Survived  Pclass                                      Name  \\\n",
       "886          887         0       2                     Montvila, Rev. Juozas   \n",
       "887          888         1       1              Graham, Miss. Margaret Edith   \n",
       "888          889         0       3  Johnston, Miss. Catherine Helen \"Carrie\"   \n",
       "889          890         1       1                     Behr, Mr. Karl Howell   \n",
       "890          891         0       3                       Dooley, Mr. Patrick   \n",
       "\n",
       "        Sex   Age  SibSp  Parch      Ticket   Fare Cabin Embarked  \n",
       "886    male  27.0      0      0      211536  13.00   NaN        S  \n",
       "887  female  19.0      0      0      112053  30.00   B42        S  \n",
       "888  female   NaN      1      2  W./C. 6607  23.45   NaN        S  \n",
       "889    male  26.0      0      0      111369  30.00  C148        C  \n",
       "890    male  32.0      0      0      370376   7.75   NaN        Q  "
      ]
     },
     "execution_count": 194,
     "metadata": {},
     "output_type": "execute_result"
    }
   ],
   "source": [
    "df_train.tail()"
   ]
  },
  {
   "cell_type": "code",
   "execution_count": 195,
   "id": "1ac0ee97-4190-4f41-91f0-d6808e30ac90",
   "metadata": {},
   "outputs": [
    {
     "data": {
      "text/html": [
       "<div>\n",
       "<style scoped>\n",
       "    .dataframe tbody tr th:only-of-type {\n",
       "        vertical-align: middle;\n",
       "    }\n",
       "\n",
       "    .dataframe tbody tr th {\n",
       "        vertical-align: top;\n",
       "    }\n",
       "\n",
       "    .dataframe thead th {\n",
       "        text-align: right;\n",
       "    }\n",
       "</style>\n",
       "<table border=\"1\" class=\"dataframe\">\n",
       "  <thead>\n",
       "    <tr style=\"text-align: right;\">\n",
       "      <th></th>\n",
       "      <th>PassengerId</th>\n",
       "      <th>Pclass</th>\n",
       "      <th>Name</th>\n",
       "      <th>Sex</th>\n",
       "      <th>Age</th>\n",
       "      <th>SibSp</th>\n",
       "      <th>Parch</th>\n",
       "      <th>Ticket</th>\n",
       "      <th>Fare</th>\n",
       "      <th>Cabin</th>\n",
       "      <th>Embarked</th>\n",
       "    </tr>\n",
       "  </thead>\n",
       "  <tbody>\n",
       "    <tr>\n",
       "      <th>0</th>\n",
       "      <td>892</td>\n",
       "      <td>3</td>\n",
       "      <td>Kelly, Mr. James</td>\n",
       "      <td>male</td>\n",
       "      <td>34.5</td>\n",
       "      <td>0</td>\n",
       "      <td>0</td>\n",
       "      <td>330911</td>\n",
       "      <td>7.8292</td>\n",
       "      <td>NaN</td>\n",
       "      <td>Q</td>\n",
       "    </tr>\n",
       "    <tr>\n",
       "      <th>1</th>\n",
       "      <td>893</td>\n",
       "      <td>3</td>\n",
       "      <td>Wilkes, Mrs. James (Ellen Needs)</td>\n",
       "      <td>female</td>\n",
       "      <td>47.0</td>\n",
       "      <td>1</td>\n",
       "      <td>0</td>\n",
       "      <td>363272</td>\n",
       "      <td>7.0000</td>\n",
       "      <td>NaN</td>\n",
       "      <td>S</td>\n",
       "    </tr>\n",
       "    <tr>\n",
       "      <th>2</th>\n",
       "      <td>894</td>\n",
       "      <td>2</td>\n",
       "      <td>Myles, Mr. Thomas Francis</td>\n",
       "      <td>male</td>\n",
       "      <td>62.0</td>\n",
       "      <td>0</td>\n",
       "      <td>0</td>\n",
       "      <td>240276</td>\n",
       "      <td>9.6875</td>\n",
       "      <td>NaN</td>\n",
       "      <td>Q</td>\n",
       "    </tr>\n",
       "    <tr>\n",
       "      <th>3</th>\n",
       "      <td>895</td>\n",
       "      <td>3</td>\n",
       "      <td>Wirz, Mr. Albert</td>\n",
       "      <td>male</td>\n",
       "      <td>27.0</td>\n",
       "      <td>0</td>\n",
       "      <td>0</td>\n",
       "      <td>315154</td>\n",
       "      <td>8.6625</td>\n",
       "      <td>NaN</td>\n",
       "      <td>S</td>\n",
       "    </tr>\n",
       "    <tr>\n",
       "      <th>4</th>\n",
       "      <td>896</td>\n",
       "      <td>3</td>\n",
       "      <td>Hirvonen, Mrs. Alexander (Helga E Lindqvist)</td>\n",
       "      <td>female</td>\n",
       "      <td>22.0</td>\n",
       "      <td>1</td>\n",
       "      <td>1</td>\n",
       "      <td>3101298</td>\n",
       "      <td>12.2875</td>\n",
       "      <td>NaN</td>\n",
       "      <td>S</td>\n",
       "    </tr>\n",
       "  </tbody>\n",
       "</table>\n",
       "</div>"
      ],
      "text/plain": [
       "   PassengerId  Pclass                                          Name     Sex  \\\n",
       "0          892       3                              Kelly, Mr. James    male   \n",
       "1          893       3              Wilkes, Mrs. James (Ellen Needs)  female   \n",
       "2          894       2                     Myles, Mr. Thomas Francis    male   \n",
       "3          895       3                              Wirz, Mr. Albert    male   \n",
       "4          896       3  Hirvonen, Mrs. Alexander (Helga E Lindqvist)  female   \n",
       "\n",
       "    Age  SibSp  Parch   Ticket     Fare Cabin Embarked  \n",
       "0  34.5      0      0   330911   7.8292   NaN        Q  \n",
       "1  47.0      1      0   363272   7.0000   NaN        S  \n",
       "2  62.0      0      0   240276   9.6875   NaN        Q  \n",
       "3  27.0      0      0   315154   8.6625   NaN        S  \n",
       "4  22.0      1      1  3101298  12.2875   NaN        S  "
      ]
     },
     "execution_count": 195,
     "metadata": {},
     "output_type": "execute_result"
    }
   ],
   "source": [
    "df_test.head()"
   ]
  },
  {
   "cell_type": "code",
   "execution_count": 196,
   "id": "d414f917-840e-4695-8a03-f0ad51693f89",
   "metadata": {},
   "outputs": [
    {
     "data": {
      "text/html": [
       "<div>\n",
       "<style scoped>\n",
       "    .dataframe tbody tr th:only-of-type {\n",
       "        vertical-align: middle;\n",
       "    }\n",
       "\n",
       "    .dataframe tbody tr th {\n",
       "        vertical-align: top;\n",
       "    }\n",
       "\n",
       "    .dataframe thead th {\n",
       "        text-align: right;\n",
       "    }\n",
       "</style>\n",
       "<table border=\"1\" class=\"dataframe\">\n",
       "  <thead>\n",
       "    <tr style=\"text-align: right;\">\n",
       "      <th></th>\n",
       "      <th>PassengerId</th>\n",
       "      <th>Pclass</th>\n",
       "      <th>Name</th>\n",
       "      <th>Sex</th>\n",
       "      <th>Age</th>\n",
       "      <th>SibSp</th>\n",
       "      <th>Parch</th>\n",
       "      <th>Ticket</th>\n",
       "      <th>Fare</th>\n",
       "      <th>Cabin</th>\n",
       "      <th>Embarked</th>\n",
       "    </tr>\n",
       "  </thead>\n",
       "  <tbody>\n",
       "    <tr>\n",
       "      <th>413</th>\n",
       "      <td>1305</td>\n",
       "      <td>3</td>\n",
       "      <td>Spector, Mr. Woolf</td>\n",
       "      <td>male</td>\n",
       "      <td>NaN</td>\n",
       "      <td>0</td>\n",
       "      <td>0</td>\n",
       "      <td>A.5. 3236</td>\n",
       "      <td>8.0500</td>\n",
       "      <td>NaN</td>\n",
       "      <td>S</td>\n",
       "    </tr>\n",
       "    <tr>\n",
       "      <th>414</th>\n",
       "      <td>1306</td>\n",
       "      <td>1</td>\n",
       "      <td>Oliva y Ocana, Dona. Fermina</td>\n",
       "      <td>female</td>\n",
       "      <td>39.0</td>\n",
       "      <td>0</td>\n",
       "      <td>0</td>\n",
       "      <td>PC 17758</td>\n",
       "      <td>108.9000</td>\n",
       "      <td>C105</td>\n",
       "      <td>C</td>\n",
       "    </tr>\n",
       "    <tr>\n",
       "      <th>415</th>\n",
       "      <td>1307</td>\n",
       "      <td>3</td>\n",
       "      <td>Saether, Mr. Simon Sivertsen</td>\n",
       "      <td>male</td>\n",
       "      <td>38.5</td>\n",
       "      <td>0</td>\n",
       "      <td>0</td>\n",
       "      <td>SOTON/O.Q. 3101262</td>\n",
       "      <td>7.2500</td>\n",
       "      <td>NaN</td>\n",
       "      <td>S</td>\n",
       "    </tr>\n",
       "    <tr>\n",
       "      <th>416</th>\n",
       "      <td>1308</td>\n",
       "      <td>3</td>\n",
       "      <td>Ware, Mr. Frederick</td>\n",
       "      <td>male</td>\n",
       "      <td>NaN</td>\n",
       "      <td>0</td>\n",
       "      <td>0</td>\n",
       "      <td>359309</td>\n",
       "      <td>8.0500</td>\n",
       "      <td>NaN</td>\n",
       "      <td>S</td>\n",
       "    </tr>\n",
       "    <tr>\n",
       "      <th>417</th>\n",
       "      <td>1309</td>\n",
       "      <td>3</td>\n",
       "      <td>Peter, Master. Michael J</td>\n",
       "      <td>male</td>\n",
       "      <td>NaN</td>\n",
       "      <td>1</td>\n",
       "      <td>1</td>\n",
       "      <td>2668</td>\n",
       "      <td>22.3583</td>\n",
       "      <td>NaN</td>\n",
       "      <td>C</td>\n",
       "    </tr>\n",
       "  </tbody>\n",
       "</table>\n",
       "</div>"
      ],
      "text/plain": [
       "     PassengerId  Pclass                          Name     Sex   Age  SibSp  \\\n",
       "413         1305       3            Spector, Mr. Woolf    male   NaN      0   \n",
       "414         1306       1  Oliva y Ocana, Dona. Fermina  female  39.0      0   \n",
       "415         1307       3  Saether, Mr. Simon Sivertsen    male  38.5      0   \n",
       "416         1308       3           Ware, Mr. Frederick    male   NaN      0   \n",
       "417         1309       3      Peter, Master. Michael J    male   NaN      1   \n",
       "\n",
       "     Parch              Ticket      Fare Cabin Embarked  \n",
       "413      0           A.5. 3236    8.0500   NaN        S  \n",
       "414      0            PC 17758  108.9000  C105        C  \n",
       "415      0  SOTON/O.Q. 3101262    7.2500   NaN        S  \n",
       "416      0              359309    8.0500   NaN        S  \n",
       "417      1                2668   22.3583   NaN        C  "
      ]
     },
     "execution_count": 196,
     "metadata": {},
     "output_type": "execute_result"
    }
   ],
   "source": [
    "df_test.tail()"
   ]
  },
  {
   "cell_type": "markdown",
   "id": "98f8d884-6fd0-4e66-b929-e3a030ce8ece",
   "metadata": {},
   "source": [
    "- `df_test` does not contain the column *Survived*\n",
    "- *PassengerId* acts an Unique Identifier for the combined Dataset"
   ]
  },
  {
   "cell_type": "markdown",
   "id": "fd737b48-78cc-4432-b202-b26a617e6913",
   "metadata": {
    "tags": []
   },
   "source": [
    "## New pandas.DataFrame for Analysis"
   ]
  },
  {
   "cell_type": "markdown",
   "id": "c5ab26b4-31d7-49ed-92e9-496ba19bb6b8",
   "metadata": {},
   "source": [
    "- One of the important deduction to make is about the survival rate of the passengers above the Titanic.\n",
    "    So let us ignore that for now and create a `pandas.DataFrame` combining the testing and training datasets\n",
    "    (will be used later for Machine Learning)."
   ]
  },
  {
   "cell_type": "code",
   "execution_count": 197,
   "id": "b8541eba-73b2-4d30-b512-f2b4a0ef430a",
   "metadata": {},
   "outputs": [],
   "source": [
    "df_train_copy = df_train.copy()\n",
    "del df_train_copy['Survived']\n",
    "df = pd.concat([df_train_copy, df_test])\n",
    "df = df.reset_index(drop=True) # Resets concated indices"
   ]
  },
  {
   "cell_type": "code",
   "execution_count": 198,
   "id": "091e71e7-f4d0-48f9-af84-63cb30c16938",
   "metadata": {},
   "outputs": [
    {
     "data": {
      "text/html": [
       "<div>\n",
       "<style scoped>\n",
       "    .dataframe tbody tr th:only-of-type {\n",
       "        vertical-align: middle;\n",
       "    }\n",
       "\n",
       "    .dataframe tbody tr th {\n",
       "        vertical-align: top;\n",
       "    }\n",
       "\n",
       "    .dataframe thead th {\n",
       "        text-align: right;\n",
       "    }\n",
       "</style>\n",
       "<table border=\"1\" class=\"dataframe\">\n",
       "  <thead>\n",
       "    <tr style=\"text-align: right;\">\n",
       "      <th></th>\n",
       "      <th>PassengerId</th>\n",
       "      <th>Pclass</th>\n",
       "      <th>Name</th>\n",
       "      <th>Sex</th>\n",
       "      <th>Age</th>\n",
       "      <th>SibSp</th>\n",
       "      <th>Parch</th>\n",
       "      <th>Ticket</th>\n",
       "      <th>Fare</th>\n",
       "      <th>Cabin</th>\n",
       "      <th>Embarked</th>\n",
       "    </tr>\n",
       "  </thead>\n",
       "  <tbody>\n",
       "    <tr>\n",
       "      <th>0</th>\n",
       "      <td>1</td>\n",
       "      <td>3</td>\n",
       "      <td>Braund, Mr. Owen Harris</td>\n",
       "      <td>male</td>\n",
       "      <td>22.0</td>\n",
       "      <td>1</td>\n",
       "      <td>0</td>\n",
       "      <td>A/5 21171</td>\n",
       "      <td>7.2500</td>\n",
       "      <td>NaN</td>\n",
       "      <td>S</td>\n",
       "    </tr>\n",
       "    <tr>\n",
       "      <th>1</th>\n",
       "      <td>2</td>\n",
       "      <td>1</td>\n",
       "      <td>Cumings, Mrs. John Bradley (Florence Briggs Th...</td>\n",
       "      <td>female</td>\n",
       "      <td>38.0</td>\n",
       "      <td>1</td>\n",
       "      <td>0</td>\n",
       "      <td>PC 17599</td>\n",
       "      <td>71.2833</td>\n",
       "      <td>C85</td>\n",
       "      <td>C</td>\n",
       "    </tr>\n",
       "    <tr>\n",
       "      <th>2</th>\n",
       "      <td>3</td>\n",
       "      <td>3</td>\n",
       "      <td>Heikkinen, Miss. Laina</td>\n",
       "      <td>female</td>\n",
       "      <td>26.0</td>\n",
       "      <td>0</td>\n",
       "      <td>0</td>\n",
       "      <td>STON/O2. 3101282</td>\n",
       "      <td>7.9250</td>\n",
       "      <td>NaN</td>\n",
       "      <td>S</td>\n",
       "    </tr>\n",
       "    <tr>\n",
       "      <th>3</th>\n",
       "      <td>4</td>\n",
       "      <td>1</td>\n",
       "      <td>Futrelle, Mrs. Jacques Heath (Lily May Peel)</td>\n",
       "      <td>female</td>\n",
       "      <td>35.0</td>\n",
       "      <td>1</td>\n",
       "      <td>0</td>\n",
       "      <td>113803</td>\n",
       "      <td>53.1000</td>\n",
       "      <td>C123</td>\n",
       "      <td>S</td>\n",
       "    </tr>\n",
       "    <tr>\n",
       "      <th>4</th>\n",
       "      <td>5</td>\n",
       "      <td>3</td>\n",
       "      <td>Allen, Mr. William Henry</td>\n",
       "      <td>male</td>\n",
       "      <td>35.0</td>\n",
       "      <td>0</td>\n",
       "      <td>0</td>\n",
       "      <td>373450</td>\n",
       "      <td>8.0500</td>\n",
       "      <td>NaN</td>\n",
       "      <td>S</td>\n",
       "    </tr>\n",
       "  </tbody>\n",
       "</table>\n",
       "</div>"
      ],
      "text/plain": [
       "   PassengerId  Pclass                                               Name  \\\n",
       "0            1       3                            Braund, Mr. Owen Harris   \n",
       "1            2       1  Cumings, Mrs. John Bradley (Florence Briggs Th...   \n",
       "2            3       3                             Heikkinen, Miss. Laina   \n",
       "3            4       1       Futrelle, Mrs. Jacques Heath (Lily May Peel)   \n",
       "4            5       3                           Allen, Mr. William Henry   \n",
       "\n",
       "      Sex   Age  SibSp  Parch            Ticket     Fare Cabin Embarked  \n",
       "0    male  22.0      1      0         A/5 21171   7.2500   NaN        S  \n",
       "1  female  38.0      1      0          PC 17599  71.2833   C85        C  \n",
       "2  female  26.0      0      0  STON/O2. 3101282   7.9250   NaN        S  \n",
       "3  female  35.0      1      0            113803  53.1000  C123        S  \n",
       "4    male  35.0      0      0            373450   8.0500   NaN        S  "
      ]
     },
     "execution_count": 198,
     "metadata": {},
     "output_type": "execute_result"
    }
   ],
   "source": [
    "df.head()"
   ]
  },
  {
   "cell_type": "code",
   "execution_count": 199,
   "id": "908850fd-67ef-4bee-8332-3c78179814c5",
   "metadata": {},
   "outputs": [
    {
     "data": {
      "text/html": [
       "<div>\n",
       "<style scoped>\n",
       "    .dataframe tbody tr th:only-of-type {\n",
       "        vertical-align: middle;\n",
       "    }\n",
       "\n",
       "    .dataframe tbody tr th {\n",
       "        vertical-align: top;\n",
       "    }\n",
       "\n",
       "    .dataframe thead th {\n",
       "        text-align: right;\n",
       "    }\n",
       "</style>\n",
       "<table border=\"1\" class=\"dataframe\">\n",
       "  <thead>\n",
       "    <tr style=\"text-align: right;\">\n",
       "      <th></th>\n",
       "      <th>PassengerId</th>\n",
       "      <th>Pclass</th>\n",
       "      <th>Name</th>\n",
       "      <th>Sex</th>\n",
       "      <th>Age</th>\n",
       "      <th>SibSp</th>\n",
       "      <th>Parch</th>\n",
       "      <th>Ticket</th>\n",
       "      <th>Fare</th>\n",
       "      <th>Cabin</th>\n",
       "      <th>Embarked</th>\n",
       "    </tr>\n",
       "  </thead>\n",
       "  <tbody>\n",
       "    <tr>\n",
       "      <th>1304</th>\n",
       "      <td>1305</td>\n",
       "      <td>3</td>\n",
       "      <td>Spector, Mr. Woolf</td>\n",
       "      <td>male</td>\n",
       "      <td>NaN</td>\n",
       "      <td>0</td>\n",
       "      <td>0</td>\n",
       "      <td>A.5. 3236</td>\n",
       "      <td>8.0500</td>\n",
       "      <td>NaN</td>\n",
       "      <td>S</td>\n",
       "    </tr>\n",
       "    <tr>\n",
       "      <th>1305</th>\n",
       "      <td>1306</td>\n",
       "      <td>1</td>\n",
       "      <td>Oliva y Ocana, Dona. Fermina</td>\n",
       "      <td>female</td>\n",
       "      <td>39.0</td>\n",
       "      <td>0</td>\n",
       "      <td>0</td>\n",
       "      <td>PC 17758</td>\n",
       "      <td>108.9000</td>\n",
       "      <td>C105</td>\n",
       "      <td>C</td>\n",
       "    </tr>\n",
       "    <tr>\n",
       "      <th>1306</th>\n",
       "      <td>1307</td>\n",
       "      <td>3</td>\n",
       "      <td>Saether, Mr. Simon Sivertsen</td>\n",
       "      <td>male</td>\n",
       "      <td>38.5</td>\n",
       "      <td>0</td>\n",
       "      <td>0</td>\n",
       "      <td>SOTON/O.Q. 3101262</td>\n",
       "      <td>7.2500</td>\n",
       "      <td>NaN</td>\n",
       "      <td>S</td>\n",
       "    </tr>\n",
       "    <tr>\n",
       "      <th>1307</th>\n",
       "      <td>1308</td>\n",
       "      <td>3</td>\n",
       "      <td>Ware, Mr. Frederick</td>\n",
       "      <td>male</td>\n",
       "      <td>NaN</td>\n",
       "      <td>0</td>\n",
       "      <td>0</td>\n",
       "      <td>359309</td>\n",
       "      <td>8.0500</td>\n",
       "      <td>NaN</td>\n",
       "      <td>S</td>\n",
       "    </tr>\n",
       "    <tr>\n",
       "      <th>1308</th>\n",
       "      <td>1309</td>\n",
       "      <td>3</td>\n",
       "      <td>Peter, Master. Michael J</td>\n",
       "      <td>male</td>\n",
       "      <td>NaN</td>\n",
       "      <td>1</td>\n",
       "      <td>1</td>\n",
       "      <td>2668</td>\n",
       "      <td>22.3583</td>\n",
       "      <td>NaN</td>\n",
       "      <td>C</td>\n",
       "    </tr>\n",
       "  </tbody>\n",
       "</table>\n",
       "</div>"
      ],
      "text/plain": [
       "      PassengerId  Pclass                          Name     Sex   Age  SibSp  \\\n",
       "1304         1305       3            Spector, Mr. Woolf    male   NaN      0   \n",
       "1305         1306       1  Oliva y Ocana, Dona. Fermina  female  39.0      0   \n",
       "1306         1307       3  Saether, Mr. Simon Sivertsen    male  38.5      0   \n",
       "1307         1308       3           Ware, Mr. Frederick    male   NaN      0   \n",
       "1308         1309       3      Peter, Master. Michael J    male   NaN      1   \n",
       "\n",
       "      Parch              Ticket      Fare Cabin Embarked  \n",
       "1304      0           A.5. 3236    8.0500   NaN        S  \n",
       "1305      0            PC 17758  108.9000  C105        C  \n",
       "1306      0  SOTON/O.Q. 3101262    7.2500   NaN        S  \n",
       "1307      0              359309    8.0500   NaN        S  \n",
       "1308      1                2668   22.3583   NaN        C  "
      ]
     },
     "execution_count": 199,
     "metadata": {},
     "output_type": "execute_result"
    }
   ],
   "source": [
    "df.tail()"
   ]
  },
  {
   "cell_type": "markdown",
   "id": "3461b1bb-d9ce-4d37-ae39-2bacb325e95e",
   "metadata": {},
   "source": [
    "### Missing Data"
   ]
  },
  {
   "cell_type": "code",
   "execution_count": 200,
   "id": "d69420a7-f7f9-4c10-9d3a-e3afe43f371a",
   "metadata": {},
   "outputs": [
    {
     "data": {
      "text/plain": [
       "PassengerId       0\n",
       "Pclass            0\n",
       "Name              0\n",
       "Sex               0\n",
       "Age             263\n",
       "SibSp             0\n",
       "Parch             0\n",
       "Ticket            0\n",
       "Fare              1\n",
       "Cabin          1014\n",
       "Embarked          2\n",
       "dtype: int64"
      ]
     },
     "execution_count": 200,
     "metadata": {},
     "output_type": "execute_result"
    }
   ],
   "source": [
    "df.isnull().sum()"
   ]
  },
  {
   "cell_type": "code",
   "execution_count": 201,
   "id": "22d910c2-cb54-453e-aba8-60126ffe2b9f",
   "metadata": {},
   "outputs": [
    {
     "data": {
      "text/plain": [
       "<AxesSubplot:>"
      ]
     },
     "execution_count": 201,
     "metadata": {},
     "output_type": "execute_result"
    },
    {
     "data": {
      "image/png": "[encoded data removed]",
      "text/plain": [
       "<Figure size 432x288 with 1 Axes>"
      ]
     },
     "metadata": {},
     "output_type": "display_data"
    }
   ],
   "source": [
    "sns.heatmap(df.isnull(), yticklabels=False, cbar=False, cmap='viridis')"
   ]
  },
  {
   "cell_type": "markdown",
   "id": "c838d3b9-48fc-4917-8462-02385413cc4c",
   "metadata": {
    "tags": []
   },
   "source": [
    "# Analysis"
   ]
  },
  {
   "cell_type": "markdown",
   "id": "bab7cd9e-e952-4f27-a4d6-ee4d0d3aa44b",
   "metadata": {
    "tags": []
   },
   "source": [
    "## Passenger ID"
   ]
  },
  {
   "cell_type": "markdown",
   "id": "edcf226b-ba19-4805-9de1-4ccffee9c4aa",
   "metadata": {},
   "source": [
    "- `PassengerId` $\\implies$ Unique Identifier used to go between the Individual testing and training datasets to the combined dataset"
   ]
  },
  {
   "cell_type": "markdown",
   "id": "0dbe3af1-c3a7-4243-a2e8-38f859ba5367",
   "metadata": {
    "tags": []
   },
   "source": [
    "## Passenger Class"
   ]
  },
  {
   "cell_type": "markdown",
   "id": "368d35d9-7df1-4410-bfc6-8f508c4d4418",
   "metadata": {},
   "source": [
    "- `Pclass` $\\implies$ Categorical data with 3 ordinals `1`, `2`, `3`"
   ]
  },
  {
   "cell_type": "code",
   "execution_count": 202,
   "id": "b477ac7f-8045-4470-97c0-d01684a37838",
   "metadata": {},
   "outputs": [
    {
     "data": {
      "text/plain": [
       "<AxesSubplot:xlabel='Pclass', ylabel='count'>"
      ]
     },
     "execution_count": 202,
     "metadata": {},
     "output_type": "execute_result"
    },
    {
     "data": {
      "image/png": "[encoded data removed]",
      "text/plain": [
       "<Figure size 432x288 with 1 Axes>"
      ]
     },
     "metadata": {},
     "output_type": "display_data"
    }
   ],
   "source": [
    "sns.countplot(x='Pclass',data=df, palette='rainbow')"
   ]
  },
  {
   "cell_type": "markdown",
   "id": "5129e3e0-1472-4352-90bb-d4fea1db5e60",
   "metadata": {},
   "source": [
    "### Corelation of PClass with Survivability"
   ]
  },
  {
   "cell_type": "code",
   "execution_count": 203,
   "id": "96f7bfea-8f0d-4c15-ad35-9c32814da2e4",
   "metadata": {},
   "outputs": [
    {
     "data": {
      "text/plain": [
       "<AxesSubplot:xlabel='Survived', ylabel='count'>"
      ]
     },
     "execution_count": 203,
     "metadata": {},
     "output_type": "execute_result"
    },
    {
     "data": {
      "image/png": "[encoded data removed]",
      "text/plain": [
       "<Figure size 432x288 with 1 Axes>"
      ]
     },
     "metadata": {},
     "output_type": "display_data"
    }
   ],
   "source": [
    "sns.countplot(x='Survived',hue='Pclass',data=df_train ,palette='rainbow')"
   ]
  },
  {
   "cell_type": "markdown",
   "id": "5af954a0-cd47-44d9-aa89-5dde696c927e",
   "metadata": {},
   "source": [
    "- From the above plot we can infer that passengers in class 1 and two have $\\approx50\\%$ survival rate given their lower numbers. And the passengers in class 3 have the lowest ie., $\\approx20\\%$ survival rate. Hence the data is skewed against the survivability of class 3 passengers. Hence this can be considered a significant variable in the distribution of the age of the passengers and their survivability."
   ]
  },
  {
   "cell_type": "markdown",
   "id": "050ffdc7-0159-448a-adae-21878ee5debe",
   "metadata": {
    "tags": []
   },
   "source": [
    "## Sex"
   ]
  },
  {
   "cell_type": "markdown",
   "id": "bba1497e-5226-4aa2-a49c-9b465dc57a6e",
   "metadata": {},
   "source": [
    "- `Sex` $\\implies$ Categorical binary data ie., `male`, `female`"
   ]
  },
  {
   "cell_type": "code",
   "execution_count": 204,
   "id": "6e960dd9-2970-472f-8b54-e455704302f6",
   "metadata": {},
   "outputs": [
    {
     "data": {
      "text/plain": [
       "<AxesSubplot:xlabel='Sex', ylabel='count'>"
      ]
     },
     "execution_count": 204,
     "metadata": {},
     "output_type": "execute_result"
    },
    {
     "data": {
      "image/png": "[encoded data removed]",
      "text/plain": [
       "<Figure size 432x288 with 1 Axes>"
      ]
     },
     "metadata": {},
     "output_type": "display_data"
    }
   ],
   "source": [
    "sns.countplot(x='Sex',data=df, palette='rainbow')"
   ]
  },
  {
   "cell_type": "markdown",
   "id": "87263697-cec9-4d49-888a-caa0834ebf77",
   "metadata": {},
   "source": [
    "### Corelation of Sex with Survivability"
   ]
  },
  {
   "cell_type": "code",
   "execution_count": 205,
   "id": "db30b6eb-a73e-467b-8f26-7080941a18c0",
   "metadata": {},
   "outputs": [
    {
     "data": {
      "text/plain": [
       "<AxesSubplot:xlabel='Survived', ylabel='count'>"
      ]
     },
     "execution_count": 205,
     "metadata": {},
     "output_type": "execute_result"
    },
    {
     "data": {
      "image/png": "[encoded data removed]",
      "text/plain": [
       "<Figure size 432x288 with 1 Axes>"
      ]
     },
     "metadata": {},
     "output_type": "display_data"
    }
   ],
   "source": [
    "sns.countplot(x='Survived',hue='Sex',data=df_train, palette='rainbow')"
   ]
  },
  {
   "cell_type": "markdown",
   "id": "8d68ed02-d8fc-4405-bd61-4fd6f4d67a2c",
   "metadata": {},
   "source": [
    "- Converting this Categorical data to Numerical : `male = 0` and `female = 1`"
   ]
  },
  {
   "cell_type": "code",
   "execution_count": 206,
   "id": "52325e4d-75c0-408e-b11b-e0bbdcb78b02",
   "metadata": {},
   "outputs": [],
   "source": [
    "df_test['Sex'] = df_test['Sex'].replace(['male', 'female'],[0,1])\n",
    "df_train['Sex'] = df_train['Sex'].replace(['male', 'female'],[0,1])\n",
    "df['Sex'] = df['Sex'].replace(['male', 'female'],[0,1])"
   ]
  },
  {
   "cell_type": "markdown",
   "id": "6299250b-5c54-44a9-b267-0c832282df3e",
   "metadata": {
    "tags": []
   },
   "source": [
    "## Sibling Relations"
   ]
  },
  {
   "cell_type": "markdown",
   "id": "e349cdc4-d062-45b6-9eb4-64de4dcbb99e",
   "metadata": {},
   "source": [
    "-`SibSp` $\\implies$ Numerical Data on the number of siblings.\n",
    "- When compared to other variables, `SibSp` can be neglected due to it's lesser significance on survivability.\n",
    "    (A logical assumption)"
   ]
  },
  {
   "cell_type": "code",
   "execution_count": 207,
   "id": "aa3f41e0-5ff0-4842-b8b3-2773946717b5",
   "metadata": {},
   "outputs": [],
   "source": [
    "del df['SibSp']\n",
    "del df_train['SibSp']\n",
    "del df_test['SibSp']"
   ]
  },
  {
   "cell_type": "markdown",
   "id": "6c12743c-1cb0-4094-bbf4-c17c70cb0b8c",
   "metadata": {
    "tags": []
   },
   "source": [
    "## Parent Relations"
   ]
  },
  {
   "cell_type": "markdown",
   "id": "1a9e4b10-7310-4b92-8ada-b1168a70db01",
   "metadata": {},
   "source": [
    "-`Parch` $\\implies$ Numerical Data on the number of Parents.\n",
    "- When compared to other variables, `Parch` can be neglected due to it's lesser significance on survivability.\n",
    "    (A logical assumption)"
   ]
  },
  {
   "cell_type": "code",
   "execution_count": 208,
   "id": "343daa10-6ae4-4e53-a17a-fc76a68983b7",
   "metadata": {},
   "outputs": [],
   "source": [
    "del df['Parch']\n",
    "del df_train['Parch']\n",
    "del df_test['Parch']"
   ]
  },
  {
   "cell_type": "markdown",
   "id": "0e88c396-e0ce-46f5-a619-001932a85d0e",
   "metadata": {
    "tags": []
   },
   "source": [
    "## Ticket"
   ]
  },
  {
   "cell_type": "markdown",
   "id": "d752ea83-29c0-4f4e-b943-2af5c17ecc86",
   "metadata": {},
   "source": [
    "-`Ticket` $\\implies$ Categorical Data\n",
    "- Since we already have Numerical data `Fare` and Categorical data `PClass` about the class of the passengers,\n",
    "    we can neglect `Ticket`"
   ]
  },
  {
   "cell_type": "code",
   "execution_count": 209,
   "id": "09f9afc1-94d9-428d-9063-f785c542ec92",
   "metadata": {},
   "outputs": [],
   "source": [
    "del df['Ticket']\n",
    "del df_train['Ticket']\n",
    "del df_test['Ticket']"
   ]
  },
  {
   "cell_type": "markdown",
   "id": "9ccceecd-4fa6-4c3f-a6b3-c627d90884ca",
   "metadata": {
    "tags": []
   },
   "source": [
    "## Fare"
   ]
  },
  {
   "cell_type": "markdown",
   "id": "4c55e413-058b-4834-a820-f3be7088a95f",
   "metadata": {},
   "source": [
    "- `Fare` $\\implies$ Numerical Data\n",
    "- From the graph below it is evident that the data is not normalized."
   ]
  },
  {
   "cell_type": "code",
   "execution_count": 210,
   "id": "11102e62-06bf-4f41-af86-2eaa69129d1a",
   "metadata": {},
   "outputs": [
    {
     "data": {
      "image/png": "[encoded data removed]",
      "text/plain": [
       "<Figure size 432x288 with 1 Axes>"
      ]
     },
     "metadata": {},
     "output_type": "display_data"
    }
   ],
   "source": [
    "ax = sns.histplot(df['Fare'], bins=20, kde=True,color='darkred',alpha=0.3)"
   ]
  },
  {
   "cell_type": "markdown",
   "id": "5ae6c312-4f68-4810-a707-e61dec1b4762",
   "metadata": {},
   "source": [
    "- Normalization :"
   ]
  },
  {
   "cell_type": "code",
   "execution_count": 211,
   "id": "4a02a8a5-1831-49f3-994a-117f11b81789",
   "metadata": {},
   "outputs": [
    {
     "data": {
      "image/png": "[encoded data removed]",
      "text/plain": [
       "<Figure size 432x288 with 1 Axes>"
      ]
     },
     "metadata": {},
     "output_type": "display_data"
    }
   ],
   "source": [
    "df['NFare'] = np.log(df.Fare+1)\n",
    "df_train['NFare'] = np.log(df_train.Fare+1)\n",
    "df_test['NFare'] = np.log(df_test.Fare+1)\n",
    "ax = sns.histplot(df['NFare'], bins=20, kde=True,color='darkred',alpha=0.3)"
   ]
  },
  {
   "cell_type": "code",
   "execution_count": 212,
   "id": "221592b3-e992-425f-ae6f-bdd014c7d197",
   "metadata": {},
   "outputs": [],
   "source": [
    "del df['Fare']\n",
    "del df_train['Fare']\n",
    "del df_test['Fare']"
   ]
  },
  {
   "cell_type": "code",
   "execution_count": 213,
   "id": "7a4e47d8-04db-409e-9f5c-e2d8f71e1aae",
   "metadata": {},
   "outputs": [],
   "source": [
    "df.NFare = df.NFare.fillna(df.Age.mean())\n",
    "df_train.NFare = df_train.NFare.fillna(df.Age.mean())\n",
    "df_test.NFare = df_test.NFare.fillna(df.Age.mean())"
   ]
  },
  {
   "cell_type": "markdown",
   "id": "44574e45-213a-42bd-a95b-7aecd622bedc",
   "metadata": {
    "tags": []
   },
   "source": [
    "## Cabin"
   ]
  },
  {
   "cell_type": "markdown",
   "id": "d386f33d-9e1c-4ddd-a446-40f8db38dec5",
   "metadata": {},
   "source": [
    "- `Cabin` $\\implies$ Categorical Data\n",
    "- Due to $\\approx80\\%$ data missing, we neglect this."
   ]
  },
  {
   "cell_type": "code",
   "execution_count": 214,
   "id": "7136400f-0238-4b4d-8753-df2aab61f452",
   "metadata": {},
   "outputs": [],
   "source": [
    "del df['Cabin']\n",
    "del df_train['Cabin']\n",
    "del df_test['Cabin']"
   ]
  },
  {
   "cell_type": "markdown",
   "id": "daaf84e1-3812-43f0-87ae-69ee0adb0219",
   "metadata": {
    "tags": []
   },
   "source": [
    "## Embarked From"
   ]
  },
  {
   "cell_type": "markdown",
   "id": "d50175fa-14f2-4bd6-8bf1-c8f4d5dcb75b",
   "metadata": {},
   "source": [
    "- `Embarked` $\\implies$ Categorical data with 3 ordinals : \n",
    "    `C` = Cherbourg,\n",
    "    `Q` = Queenstown,\n",
    "    `S` = Southampton.\n",
    "- Since we have only 2 Missing Values $<<<$ Total Entries, they can be imputed with the mode(`S`) of the `Embarked` distribution without worriying about the contributions from other variables"
   ]
  },
  {
   "cell_type": "code",
   "execution_count": 215,
   "id": "a109199f-44e5-49f6-87b9-9249a301a70d",
   "metadata": {},
   "outputs": [
    {
     "data": {
      "text/plain": [
       "S    914\n",
       "C    270\n",
       "Q    123\n",
       "Name: Embarked, dtype: int64"
      ]
     },
     "execution_count": 215,
     "metadata": {},
     "output_type": "execute_result"
    }
   ],
   "source": [
    "df['Embarked'].value_counts()"
   ]
  },
  {
   "cell_type": "code",
   "execution_count": 216,
   "id": "b1003280-2b00-43ff-971b-4022725749d7",
   "metadata": {},
   "outputs": [],
   "source": [
    "df['Embarked'].fillna('S', inplace=True)\n",
    "df_train['Embarked'].fillna('S', inplace=True)\n",
    "df_test['Embarked'].fillna('S', inplace=True)"
   ]
  },
  {
   "cell_type": "code",
   "execution_count": 217,
   "id": "d9af9b36-842e-43fc-8f0c-18e3035cc7ff",
   "metadata": {},
   "outputs": [
    {
     "data": {
      "text/plain": [
       "<AxesSubplot:xlabel='Embarked', ylabel='count'>"
      ]
     },
     "execution_count": 217,
     "metadata": {},
     "output_type": "execute_result"
    },
    {
     "data": {
      "image/png": "[encoded data removed]",
      "text/plain": [
       "<Figure size 432x288 with 1 Axes>"
      ]
     },
     "metadata": {},
     "output_type": "display_data"
    }
   ],
   "source": [
    "sns.countplot(x='Embarked',data=df, palette='rainbow')"
   ]
  },
  {
   "cell_type": "markdown",
   "id": "8f4feb8b-5a9d-427e-9863-14cb39673ebb",
   "metadata": {},
   "source": [
    "### Corelation of Embarked with Survivability"
   ]
  },
  {
   "cell_type": "code",
   "execution_count": 218,
   "id": "bea0447e-69ca-4390-a9c5-53c691362480",
   "metadata": {},
   "outputs": [
    {
     "data": {
      "text/plain": [
       "<AxesSubplot:xlabel='Survived', ylabel='count'>"
      ]
     },
     "execution_count": 218,
     "metadata": {},
     "output_type": "execute_result"
    },
    {
     "data": {
      "image/png": "[encoded data removed]",
      "text/plain": [
       "<Figure size 432x288 with 1 Axes>"
      ]
     },
     "metadata": {},
     "output_type": "display_data"
    }
   ],
   "source": [
    "sns.countplot(x='Survived',hue='Embarked',data=df_train ,palette='rainbow')"
   ]
  },
  {
   "cell_type": "markdown",
   "id": "134b27c8-4708-414e-8c9f-bf85f65c0de4",
   "metadata": {},
   "source": [
    "- Converting this Categorical data to Numerical : `S = 1` , `C = 2` , `Q = 3`"
   ]
  },
  {
   "cell_type": "code",
   "execution_count": 219,
   "id": "ce9034b0-7aaf-40e9-9860-ecf0c190bbc1",
   "metadata": {},
   "outputs": [],
   "source": [
    "df_test['Embarked'] = df_test['Embarked'].replace(['S', 'C', 'Q'],[1,2,3])\n",
    "df_train['Embarked'] = df_train['Embarked'].replace(['S', 'C', 'Q'],[1,2,3])\n",
    "df['Embarked'] = df['Embarked'].replace(['S', 'C', 'Q'],[1,2,3])"
   ]
  },
  {
   "cell_type": "markdown",
   "id": "9c250025-14db-4f7b-bfa0-8aae8b976693",
   "metadata": {
    "tags": []
   },
   "source": [
    "## Name"
   ]
  },
  {
   "cell_type": "markdown",
   "id": "ba7cc84e-dc02-4354-9369-7c135ab69bf9",
   "metadata": {},
   "source": [
    "- `Name` $\\implies$ Categorical Data \n",
    "- We can neglect this since we have enought categorical data"
   ]
  },
  {
   "cell_type": "code",
   "execution_count": 220,
   "id": "73175d53-2604-44e2-a707-61a68827da5d",
   "metadata": {},
   "outputs": [],
   "source": [
    "del df['Name']\n",
    "del df_train['Name']\n",
    "del df_test['Name']"
   ]
  },
  {
   "cell_type": "markdown",
   "id": "94794a85-33fc-45d0-9726-108d398cd998",
   "metadata": {
    "tags": []
   },
   "source": [
    "## Age"
   ]
  },
  {
   "cell_type": "markdown",
   "id": "33d2c704-00c5-4b98-abc2-e4b2478bcf5e",
   "metadata": {},
   "source": [
    "- `Age` $\\implies$ Numerical Data \n",
    "- From the heat map we can see the missing values of ages have a distribution. Hence let us check the corelation of age with susceptable variables :"
   ]
  },
  {
   "cell_type": "code",
   "execution_count": 221,
   "id": "a7562f1d-4bbf-4dcf-b32e-6e267a001e2c",
   "metadata": {},
   "outputs": [
    {
     "data": {
      "text/plain": [
       "<AxesSubplot:xlabel='Pclass', ylabel='Age'>"
      ]
     },
     "execution_count": 221,
     "metadata": {},
     "output_type": "execute_result"
    },
    {
     "data": {
      "image/png": "[encoded data removed]",
      "text/plain": [
       "<Figure size 432x288 with 1 Axes>"
      ]
     },
     "metadata": {},
     "output_type": "display_data"
    }
   ],
   "source": [
    "sns.boxplot(x='Pclass', y='Age', data=df, palette='rainbow')"
   ]
  },
  {
   "cell_type": "code",
   "execution_count": 222,
   "id": "bc2cd4a8-d9e7-4ed7-9d19-13ccda1fcd6e",
   "metadata": {},
   "outputs": [
    {
     "data": {
      "text/plain": [
       "<AxesSubplot:xlabel='Sex', ylabel='Age'>"
      ]
     },
     "execution_count": 222,
     "metadata": {},
     "output_type": "execute_result"
    },
    {
     "data": {
      "image/png": "[encoded data removed]",
      "text/plain": [
       "<Figure size 432x288 with 1 Axes>"
      ]
     },
     "metadata": {},
     "output_type": "display_data"
    }
   ],
   "source": [
    "sns.boxplot(x='Sex', y='Age', data=df, palette='rainbow')"
   ]
  },
  {
   "cell_type": "code",
   "execution_count": 223,
   "id": "7da3d654-f978-435d-a4ec-8f4ebd4cfd9a",
   "metadata": {},
   "outputs": [
    {
     "data": {
      "text/plain": [
       "<AxesSubplot:xlabel='Embarked', ylabel='Age'>"
      ]
     },
     "execution_count": 223,
     "metadata": {},
     "output_type": "execute_result"
    },
    {
     "data": {
      "image/png": "[encoded data removed]",
      "text/plain": [
       "<Figure size 432x288 with 1 Axes>"
      ]
     },
     "metadata": {},
     "output_type": "display_data"
    }
   ],
   "source": [
    "sns.boxplot(x='Embarked', y='Age', data=df, palette='rainbow')"
   ]
  },
  {
   "cell_type": "markdown",
   "id": "87712cbc-e072-4a88-9748-94d5b30af050",
   "metadata": {},
   "source": [
    "- From these three boxplots it is evident that the mean of `Embarked` and `Sex` are approximately equal for their respective cases. Hence the distribution of age can be solely imputed using mean of `Pclass` ."
   ]
  },
  {
   "cell_type": "code",
   "execution_count": 224,
   "id": "d5289142-c979-481c-b091-8660a1a0af3c",
   "metadata": {},
   "outputs": [],
   "source": [
    "df.Age = df.Age.fillna(df.Age.mean())\n",
    "df_train.Age = df_train.Age.fillna(df.Age.mean())\n",
    "df_test.Age = df_test.Age.fillna(df.Age.mean())"
   ]
  },
  {
   "cell_type": "code",
   "execution_count": 225,
   "id": "e5b68740-b3b5-4f09-bfe5-112893919d52",
   "metadata": {},
   "outputs": [],
   "source": [
    "del df['PassengerId']\n",
    "del df_train['PassengerId']\n",
    "del df_test['PassengerId']"
   ]
  },
  {
   "cell_type": "markdown",
   "id": "630cbcad-10fb-45b2-9558-a3a7b07bb1ba",
   "metadata": {},
   "source": [
    "# Logistic Regression"
   ]
  },
  {
   "cell_type": "code",
   "execution_count": 226,
   "id": "f70b0991-2702-4a58-9686-61cc08845d5b",
   "metadata": {},
   "outputs": [
    {
     "data": {
      "text/html": [
       "<div>\n",
       "<style scoped>\n",
       "    .dataframe tbody tr th:only-of-type {\n",
       "        vertical-align: middle;\n",
       "    }\n",
       "\n",
       "    .dataframe tbody tr th {\n",
       "        vertical-align: top;\n",
       "    }\n",
       "\n",
       "    .dataframe thead th {\n",
       "        text-align: right;\n",
       "    }\n",
       "</style>\n",
       "<table border=\"1\" class=\"dataframe\">\n",
       "  <thead>\n",
       "    <tr style=\"text-align: right;\">\n",
       "      <th></th>\n",
       "      <th>Pclass</th>\n",
       "      <th>Sex</th>\n",
       "      <th>Age</th>\n",
       "      <th>Embarked</th>\n",
       "      <th>NFare</th>\n",
       "    </tr>\n",
       "  </thead>\n",
       "  <tbody>\n",
       "    <tr>\n",
       "      <th>886</th>\n",
       "      <td>2</td>\n",
       "      <td>0</td>\n",
       "      <td>27.000000</td>\n",
       "      <td>1</td>\n",
       "      <td>2.639057</td>\n",
       "    </tr>\n",
       "    <tr>\n",
       "      <th>887</th>\n",
       "      <td>1</td>\n",
       "      <td>1</td>\n",
       "      <td>19.000000</td>\n",
       "      <td>1</td>\n",
       "      <td>3.433987</td>\n",
       "    </tr>\n",
       "    <tr>\n",
       "      <th>888</th>\n",
       "      <td>3</td>\n",
       "      <td>1</td>\n",
       "      <td>29.881138</td>\n",
       "      <td>1</td>\n",
       "      <td>3.196630</td>\n",
       "    </tr>\n",
       "    <tr>\n",
       "      <th>889</th>\n",
       "      <td>1</td>\n",
       "      <td>0</td>\n",
       "      <td>26.000000</td>\n",
       "      <td>2</td>\n",
       "      <td>3.433987</td>\n",
       "    </tr>\n",
       "    <tr>\n",
       "      <th>890</th>\n",
       "      <td>3</td>\n",
       "      <td>0</td>\n",
       "      <td>32.000000</td>\n",
       "      <td>3</td>\n",
       "      <td>2.169054</td>\n",
       "    </tr>\n",
       "  </tbody>\n",
       "</table>\n",
       "</div>"
      ],
      "text/plain": [
       "     Pclass  Sex        Age  Embarked     NFare\n",
       "886       2    0  27.000000         1  2.639057\n",
       "887       1    1  19.000000         1  3.433987\n",
       "888       3    1  29.881138         1  3.196630\n",
       "889       1    0  26.000000         2  3.433987\n",
       "890       3    0  32.000000         3  2.169054"
      ]
     },
     "execution_count": 226,
     "metadata": {},
     "output_type": "execute_result"
    }
   ],
   "source": [
    "x_train = df_train.drop('Survived', axis=1)\n",
    "y_train = df_train['Survived']\n",
    "x_test = df_test\n",
    "test = pd.read_csv('./titanic/gender_submission.csv')\n",
    "y_test = test['Survived']\n",
    "x_train.tail()"
   ]
  },
  {
   "cell_type": "code",
   "execution_count": 227,
   "id": "74cfd816-9c79-4590-af09-6cf38f1a51d5",
   "metadata": {},
   "outputs": [
    {
     "data": {
      "text/plain": [
       "LogisticRegression()"
      ]
     },
     "execution_count": 227,
     "metadata": {},
     "output_type": "execute_result"
    }
   ],
   "source": [
    "model = LogisticRegression()\n",
    "model.fit(x_train, y_train)"
   ]
  },
  {
   "cell_type": "code",
   "execution_count": 228,
   "id": "575d9955-0234-42e7-87a5-2a949f37bf6d",
   "metadata": {},
   "outputs": [],
   "source": [
    "predictions = model.predict(x_test)"
   ]
  },
  {
   "cell_type": "code",
   "execution_count": 229,
   "id": "67b1f593-c52c-4585-9820-d22a5227de73",
   "metadata": {},
   "outputs": [
    {
     "data": {
      "text/plain": [
       "0.9473684210526315"
      ]
     },
     "execution_count": 229,
     "metadata": {},
     "output_type": "execute_result"
    }
   ],
   "source": [
    "accuracy_score(y_test, predictions)"
   ]
  },
  {
   "cell_type": "markdown",
   "id": "011680e8-7c82-4a96-904a-cce9a804ebe8",
   "metadata": {},
   "source": [
    "# Hence a final result of 95% Accuracy"
   ]
  }
 ],
 "metadata": {
  "kernelspec": {
   "display_name": "Python 3 (ipykernel)",
   "language": "python",
   "name": "python3"
  },
  "language_info": {
   "codemirror_mode": {
    "name": "ipython",
    "version": 3
   },
   "file_extension": ".py",
   "mimetype": "text/x-python",
   "name": "python",
   "nbconvert_exporter": "python",
   "pygments_lexer": "ipython3",
   "version": "3.9.12"
  }
 },
 "nbformat": 4,
 "nbformat_minor": 5
}
